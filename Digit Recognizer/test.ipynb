{
 "cells": [
  {
   "cell_type": "code",
   "execution_count": 21,
   "metadata": {},
   "outputs": [
    {
     "name": "stdout",
     "output_type": "stream",
     "text": [
      "[[1 0 0 ... 0 0 0]\n",
      " [0 0 0 ... 0 0 0]\n",
      " [1 0 0 ... 0 0 0]\n",
      " ...\n",
      " [7 0 0 ... 0 0 0]\n",
      " [6 0 0 ... 0 0 0]\n",
      " [9 0 0 ... 0 0 0]]\n"
     ]
    }
   ],
   "source": [
    "import numpy as np \n",
    "import matplotlib.pyplot as pt \n",
    "import pandas as pd \n",
    "from sklearn.tree import DecisionTreeClassifier\n",
    "\n",
    "data = pd.read_csv(\"datasets/train.csv\").as_matrix()\n",
    "print(data)"
   ]
  },
  {
   "cell_type": "code",
   "execution_count": 22,
   "metadata": {},
   "outputs": [
    {
     "name": "stdout",
     "output_type": "stream",
     "text": [
      "Accuracy =  83.52857142857142\n"
     ]
    }
   ],
   "source": [
    "# training dataset\n",
    "clf = DecisionTreeClassifier()\n",
    "xtrain = data[0:21000, 1:]\n",
    "train_label = data[0:21000, 0]\n",
    "\n",
    "clf.fit(xtrain, train_label)\n",
    "\n",
    "# testing data\n",
    "xtest = data[21000:, 1:]\n",
    "actual_label = data[21000:, 0]\n",
    "\n",
    "# d = xtest[10]\n",
    "# d.shape = (28,28)\n",
    "# pt.imshow(d-255, cmap='gray')\n",
    "# print(clf.predict([xtest[10]]))\n",
    "# pt.show()\n",
    "\n",
    "p = clf.predict(xtest)\n",
    "\n",
    "count = 0\n",
    "for i in range(0,21000):\n",
    "    count +=1 if p[i] == actual_label[i] else 0\n",
    "    \n",
    "print(\"Accuracy = \", (count/21000)*100)"
   ]
  },
  {
   "cell_type": "code",
   "execution_count": null,
   "metadata": {},
   "outputs": [],
   "source": []
  }
 ],
 "metadata": {
  "kernelspec": {
   "display_name": "Python 3",
   "language": "python",
   "name": "python3"
  },
  "language_info": {
   "codemirror_mode": {
    "name": "ipython",
    "version": 3
   },
   "file_extension": ".py",
   "mimetype": "text/x-python",
   "name": "python",
   "nbconvert_exporter": "python",
   "pygments_lexer": "ipython3",
   "version": "3.6.4"
  }
 },
 "nbformat": 4,
 "nbformat_minor": 2
}
